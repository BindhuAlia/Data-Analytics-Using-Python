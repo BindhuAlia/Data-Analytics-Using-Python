{
 "cells": [
  {
   "cell_type": "code",
   "execution_count": 2,
   "metadata": {},
   "outputs": [
    {
     "name": "stdout",
     "output_type": "stream",
     "text": [
      "hey\n",
      "Aji 3\n"
     ]
    }
   ],
   "source": [
    "print('hey')\n",
    "print('Aji',3)"
   ]
  },
  {
   "cell_type": "code",
   "execution_count": 3,
   "metadata": {},
   "outputs": [
    {
     "data": {
      "text/plain": [
       "str"
      ]
     },
     "execution_count": 3,
     "metadata": {},
     "output_type": "execute_result"
    }
   ],
   "source": [
    "t='star'\n",
    "type(t)"
   ]
  },
  {
   "cell_type": "code",
   "execution_count": 10,
   "metadata": {},
   "outputs": [
    {
     "name": "stdout",
     "output_type": "stream",
     "text": [
      "5\n",
      "56345\n"
     ]
    }
   ],
   "source": [
    "print(int(5.7))\n",
    "float(5)\n",
    "a='56345'\n",
    "print(int(a))\n"
   ]
  },
  {
   "cell_type": "code",
   "execution_count": 12,
   "metadata": {},
   "outputs": [
    {
     "data": {
      "text/plain": [
       "2.0"
      ]
     },
     "execution_count": 12,
     "metadata": {},
     "output_type": "execute_result"
    }
   ],
   "source": [
    "4.5//2"
   ]
  },
  {
   "cell_type": "code",
   "execution_count": 14,
   "metadata": {},
   "outputs": [
    {
     "name": "stdout",
     "output_type": "stream",
     "text": [
      "2.5\n",
      "2\n"
     ]
    }
   ],
   "source": [
    "print(5/2)\n",
    "print(5//2)"
   ]
  },
  {
   "cell_type": "code",
   "execution_count": 17,
   "metadata": {},
   "outputs": [
    {
     "data": {
      "text/plain": [
       "7"
      ]
     },
     "execution_count": 17,
     "metadata": {},
     "output_type": "execute_result"
    }
   ],
   "source": [
    "7%10"
   ]
  },
  {
   "cell_type": "code",
   "execution_count": 21,
   "metadata": {},
   "outputs": [
    {
     "name": "stdout",
     "output_type": "stream",
     "text": [
      "oh\n"
     ]
    }
   ],
   "source": [
    "#logical operators along with conditional statements\n",
    "a=2\n",
    "if a==2 and a >3:\n",
    "    print(\"yeah\")\n",
    "elif a==2 or a>3:\n",
    "    print('oh')\n",
    "else:\n",
    "    print('ahh')"
   ]
  },
  {
   "cell_type": "code",
   "execution_count": 23,
   "metadata": {},
   "outputs": [
    {
     "data": {
      "text/plain": [
       "'0b1100100'"
      ]
     },
     "execution_count": 23,
     "metadata": {},
     "output_type": "execute_result"
    }
   ],
   "source": [
    "#conversion of integer to binary\n",
    "bin(100)"
   ]
  },
  {
   "cell_type": "code",
   "execution_count": 26,
   "metadata": {},
   "outputs": [
    {
     "data": {
      "text/plain": [
       "74"
      ]
     },
     "execution_count": 26,
     "metadata": {},
     "output_type": "execute_result"
    }
   ],
   "source": [
    "#to convert binary to integer\n",
    "int('1001010',2)"
   ]
  },
  {
   "cell_type": "code",
   "execution_count": 5,
   "metadata": {},
   "outputs": [
    {
     "data": {
      "text/plain": [
       "2"
      ]
     },
     "execution_count": 5,
     "metadata": {},
     "output_type": "execute_result"
    }
   ],
   "source": [
    "22%4"
   ]
  },
  {
   "cell_type": "code",
   "execution_count": 35,
   "metadata": {},
   "outputs": [
    {
     "name": "stdout",
     "output_type": "stream",
     "text": [
      "True\n",
      "False\n",
      "True\n"
     ]
    }
   ],
   "source": [
    "#membership operators\n",
    "a='korea is pretty'\n",
    "print('pretty' in a)\n",
    "print('alia' in a)\n",
    "print('bindhu' in 'bindhu alia')"
   ]
  },
  {
   "cell_type": "code",
   "execution_count": 38,
   "metadata": {},
   "outputs": [
    {
     "name": "stdout",
     "output_type": "stream",
     "text": [
      "True\n",
      "False\n"
     ]
    }
   ],
   "source": [
    "#identity operators is and is not\n",
    "a=10\n",
    "b=a\n",
    "c=10\n",
    "print (a is b)\n",
    "print (c is not b)\n"
   ]
  },
  {
   "cell_type": "code",
   "execution_count": 41,
   "metadata": {},
   "outputs": [
    {
     "name": "stdout",
     "output_type": "stream",
     "text": [
      "enter any stringalia\n",
      "alia\n",
      "enter any number5\n",
      "5\n"
     ]
    }
   ],
   "source": [
    "#getting input from user\n",
    "a=input('enter any string')\n",
    "print(a)\n",
    "# to take numbers as input\n",
    "a=int(input('enter any number'))\n",
    "print(a)"
   ]
  },
  {
   "cell_type": "code",
   "execution_count": 4,
   "metadata": {},
   "outputs": [
    {
     "name": "stdout",
     "output_type": "stream",
     "text": [
      "enter no of persons10\n",
      "enter no of gifts15\n",
      "no of gifts needed 5\n"
     ]
    }
   ],
   "source": [
    "p=int(input('enter no of persons'))\n",
    "g=int(input('enter no of gifts'))\n",
    "if g%p==0:\n",
    "    print(\"equally distributed\")\n",
    "else:\n",
    "    b=g%p\n",
    "    print('no of gifts needed',p-b)\n",
    "    "
   ]
  },
  {
   "cell_type": "code",
   "execution_count": 19,
   "metadata": {},
   "outputs": [
    {
     "name": "stdout",
     "output_type": "stream",
     "text": [
      "enter user nameAlia\n",
      "enter any number33\n",
      "enter passwordKeo123\n",
      "successful login\n"
     ]
    }
   ],
   "source": [
    "u='Alia'\n",
    "p='Keo123'\n",
    "a=input('enter user name')\n",
    "if (u==a):\n",
    "    b=int(input(\"enter any number\"))\n",
    "    if b%11==0:\n",
    "        c=input('enter password')\n",
    "        if(p==c):\n",
    "            print('successful login')\n",
    "        else:\n",
    "            print('invalid details')\n",
    "    else:\n",
    "        print('invalid key')\n",
    "else:\n",
    "        print('invalid user')\n",
    "\n",
    "\n"
   ]
  },
  {
   "cell_type": "code",
   "execution_count": 5,
   "metadata": {},
   "outputs": [
    {
     "name": "stdout",
     "output_type": "stream",
     "text": [
      "enter any number5\n",
      "count is  2\n",
      "sum is  6\n"
     ]
    }
   ],
   "source": [
    "n=int(input('enter any number'))\n",
    "c=0\n",
    "s=0\n",
    "for i in range(1,n+1):\n",
    "    if n%i==0:\n",
    "        c=c+1\n",
    "        s=s+i\n",
    "print('count is ',c)\n",
    "print('sum is ',s)        \n",
    "    "
   ]
  },
  {
   "cell_type": "code",
   "execution_count": 6,
   "metadata": {},
   "outputs": [
    {
     "name": "stdout",
     "output_type": "stream",
     "text": [
      "enter any number5\n",
      "prime number\n"
     ]
    }
   ],
   "source": [
    "n=int(input('enter any number'))\n",
    "c=0\n",
    "for i in range(1,n+1):\n",
    "    if n%i==0:\n",
    "        c=c+1\n",
    "if (c==2):\n",
    "    print('prime number')"
   ]
  },
  {
   "cell_type": "code",
   "execution_count": 7,
   "metadata": {},
   "outputs": [
    {
     "name": "stdout",
     "output_type": "stream",
     "text": [
      "enter any number28\n",
      "count is  5\n",
      "sum is  28\n",
      "perfect number\n"
     ]
    }
   ],
   "source": [
    "n=int(input('enter any number'))\n",
    "c=0\n",
    "s=0\n",
    "for i in range(1,n):\n",
    "    if n%i==0:\n",
    "        c=c+1\n",
    "        s=s+i\n",
    "print('count is ',c)\n",
    "print('sum is ',s)  \n",
    "if s==n:\n",
    "    print('perfect number')"
   ]
  },
  {
   "cell_type": "code",
   "execution_count": 11,
   "metadata": {},
   "outputs": [
    {
     "name": "stdout",
     "output_type": "stream",
     "text": [
      "enter any number28\n",
      "count is  6\n",
      "sum is  56\n",
      "perfect number\n"
     ]
    }
   ],
   "source": [
    "n=int(input('enter any number'))\n",
    "c=0\n",
    "s=0\n",
    "for i in range(1,n+1):\n",
    "    if n%i==0:\n",
    "        c=c+1\n",
    "        s=s+i\n",
    "print('count is ',c)\n",
    "print('sum is ',s)   \n",
    "if s-n==n:\n",
    "    print('perfect number')\n",
    "if (c==2):\n",
    "    print('prime number')"
   ]
  },
  {
   "cell_type": "code",
   "execution_count": 15,
   "metadata": {},
   "outputs": [
    {
     "name": "stdout",
     "output_type": "stream",
     "text": [
      "enter a number3456\n",
      "6543\n",
      "4\n"
     ]
    }
   ],
   "source": [
    "n=int(input('enter a number'))\n",
    "s=0\n",
    "c=0\n",
    "while n>0:\n",
    "    r=n%10\n",
    "    s=s*10+r\n",
    "    n=n//10\n",
    "    c=c+1\n",
    "print(s)\n",
    "print(c)"
   ]
  },
  {
   "cell_type": "code",
   "execution_count": 1,
   "metadata": {},
   "outputs": [
    {
     "name": "stdout",
     "output_type": "stream",
     "text": [
      "enter a number1234\n",
      "16 12 8 4 "
     ]
    }
   ],
   "source": [
    "n=(input('enter a number'))\n",
    "c=len(n)\n",
    "n=int(n)\n",
    "s=0\n",
    "while n>0:\n",
    "    r=n%10\n",
    "    print(c*r,end=' ')\n",
    "    s=s*10+r\n",
    "    n=n//10\n",
    "    \n"
   ]
  },
  {
   "cell_type": "code",
   "execution_count": null,
   "metadata": {},
   "outputs": [],
   "source": []
  },
  {
   "cell_type": "code",
   "execution_count": null,
   "metadata": {},
   "outputs": [],
   "source": []
  }
 ],
 "metadata": {
  "kernelspec": {
   "display_name": "Python 3",
   "language": "python",
   "name": "python3"
  },
  "language_info": {
   "codemirror_mode": {
    "name": "ipython",
    "version": 3
   },
   "file_extension": ".py",
   "mimetype": "text/x-python",
   "name": "python",
   "nbconvert_exporter": "python",
   "pygments_lexer": "ipython3",
   "version": "3.7.3"
  }
 },
 "nbformat": 4,
 "nbformat_minor": 2
}
